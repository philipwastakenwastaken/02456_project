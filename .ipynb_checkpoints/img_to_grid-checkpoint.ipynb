{
 "cells": [
  {
   "cell_type": "code",
   "execution_count": 1,
   "id": "dd1bac5a-9860-490a-b206-6869108cfde0",
   "metadata": {},
   "outputs": [],
   "source": [
    "import matplotlib.pyplot as plt\n",
    "import matplotlib.ticker as plticker\n",
    "from PIL import Image\n",
    "from skimage.transform import rescale, resize, downscale_local_mean\n",
    "from skimage import io\n",
    "from skimage import measure\n",
    "\n",
    "import numpy as np\n",
    "import torch\n",
    "import torch.nn as nn\n",
    "import torch.optim as optim\n",
    "import torch.nn.functional as F\n",
    "import gym\n",
    "from model import QNetwork, get_parameters\n",
    "import warnings\n",
    "warnings.filterwarnings(\"ignore\")"
   ]
  },
  {
   "cell_type": "markdown",
   "id": "65d682b1-5320-4adb-8b67-ed1ac28caf21",
   "metadata": {},
   "source": [
    "# Methods\n",
    "* Use difference image to find pacman and ghosts\n",
    "* Use skimage measure to find connected components:\n",
    "* if color==146\n",
    "  * small objects are dots\n",
    "  * bigger objects are powerups\n",
    "  * biggest objects are obstacles\n",
    "* if color==167\n",
    "  * pacman\n",
    "* if color==32\n",
    "  * background\n",
    "* elif\n",
    "  * ghosts\n",
    "  * screw fruits for now\n",
    "  * or maybe only detect ghosts using difference image?\n",
    "\n",
    "\n",
    "* Obstacles and backgronud are always the same. Therefore we should only calculate them once\n",
    "\n",
    "# Versions\n",
    "0) Just rescale/crop image\n",
    "1) Maze as grid, including player/enemy/obstacles/dots\n",
    "2) Coordinates of player/enemy/obstacles/dots"
   ]
  },
  {
   "cell_type": "code",
   "execution_count": 30,
   "id": "c7b30846-0757-4956-8ae1-d5b84ab2d4b6",
   "metadata": {},
   "outputs": [],
   "source": [
    "%matplotlib qt"
   ]
  },
  {
   "cell_type": "code",
   "execution_count": 32,
   "id": "d6361235-79eb-4a89-8e2b-78370667aded",
   "metadata": {},
   "outputs": [],
   "source": [
    "%matplotlib inline"
   ]
  },
  {
   "cell_type": "code",
   "execution_count": 31,
   "id": "07f484ee-2f1d-4b8d-b591-9a2c4ac73822",
   "metadata": {},
   "outputs": [],
   "source": [
    "env = gym.make('ALE/MsPacman-v5',full_action_space=False, obs_type='grayscale') \n",
    "s = env.reset()\n",
    "io.imshow(s)\n",
    "for i in range(70):\n",
    "    new_s, r, done, _ = env.step(env.action_space.sample())\n",
    "    diff = new_s - s\n",
    "    s = new_s"
   ]
  },
  {
   "cell_type": "code",
   "execution_count": null,
   "id": "c0364b5e-dcb1-4e92-a304-3af176acd509",
   "metadata": {},
   "outputs": [],
   "source": [
    "io.imshow(diff)"
   ]
  },
  {
   "cell_type": "code",
   "execution_count": null,
   "id": "e3bd2e9d-db35-47a4-97a5-2c9fb05aed1e",
   "metadata": {},
   "outputs": [],
   "source": [
    "s = env.reset()\n",
    "s = s[6:170,5:-5]\n",
    "\n",
    "h = s.shape[0]\n",
    "w = s.shape[1]\n",
    "\n",
    "h_size = 14 #14/15\n",
    "w_size = 18 #18/19\n",
    "\n",
    "hs = 11.7#/4\n",
    "ws = 8.35#/4\n",
    "\n",
    "s = rescale(s, 1, anti_aliasing=False)*255\n",
    "\n",
    "mask = np.zeros(s.shape, dtype=bool)\n",
    "for i in range(h_size):\n",
    "    for j in range(w_size):\n",
    "        #mask[int(i*hs),int(j*ws)]=255\n",
    "        mask[int(i*hs+hs/2),int(j*ws+ws/2)]=True\n",
    "        \n",
    "\n",
    "        \n",
    "#s[mask] = 255\n",
    "grid = s[mask].reshape((14,18))\n",
    "bin_img = s\n",
    "bin_img[s>50] = 255\n",
    "bin_img[s==0] = 0\n",
    "\n",
    "io.imshow(s, cmap='gray')\n",
    "io.imshow(mask, cmap='gray')\n",
    "plt.show()"
   ]
  },
  {
   "cell_type": "code",
   "execution_count": null,
   "id": "4287f833-d816-47d6-a7db-83d51f0d6f5d",
   "metadata": {},
   "outputs": [],
   "source": [
    "s = env.reset()\n",
    "s = s[6:170,5:-5]\n",
    "\n",
    "h = s.shape[0]\n",
    "w = s.shape[1]\n",
    "\n",
    "\n",
    "\n",
    "h_size = 14 #14/15\n",
    "w_size = 18 #18/19\n",
    "\n",
    "hs = 11.7/4\n",
    "ws = 8.35/4\n",
    "\n",
    "s = rescale(s, 0.25, anti_aliasing=False)*255\n",
    "\n",
    "mask = np.zeros(s.shape, dtype=bool)\n",
    "for i in range(h_size):\n",
    "    for j in range(w_size):\n",
    "        #mask[int(i*hs),int(j*ws)]=255\n",
    "        mask[int(i*hs+hs/2),int(j*ws+ws/2)]=True\n",
    "        \n",
    "\n",
    "        \n",
    "#s[mask] = 255\n",
    "grid = s[mask].reshape((14,18))\n",
    "bin_img = s\n",
    "bin_img[s>50] = 255\n",
    "bin_img[s==0] = 0\n",
    "\n",
    "io.imshow(s, cmap='gray')\n",
    "#io.imshow(mask, cmap='gray')\n",
    "plt.show()"
   ]
  },
  {
   "cell_type": "code",
   "execution_count": null,
   "id": "a7749264-c030-4fae-bda6-b506510f0d63",
   "metadata": {},
   "outputs": [],
   "source": [
    "from skimage import measure\n",
    "label_img = measure.label(bin_img, connectivity=2)\n",
    "io.imshow(label_img)"
   ]
  },
  {
   "cell_type": "code",
   "execution_count": null,
   "id": "3f43e82f-4fd5-4fda-bd28-8fb509343267",
   "metadata": {},
   "outputs": [],
   "source": [
    "region_props = measure.regionprops(label_img)\n",
    "areas = np.array([prop.area for prop in region_props])"
   ]
  },
  {
   "cell_type": "code",
   "execution_count": null,
   "id": "aee317c3-32df-4b52-a7e1-81d3cb261cba",
   "metadata": {},
   "outputs": [],
   "source": [
    "grid = np.zeros(s.shape)\n",
    "grid2 = np.zeros((14,18))\n",
    "for region in region_props:\n",
    "    \n",
    "    # background\n",
    "    if region.area == 15709:\n",
    "        for cords in region.coords:\n",
    "            grid[cords[0], cords[1]] = 0\n",
    "            #grid2[int(cords[0]/hs), int(cords[1]/ws)] = 0\n",
    "            \n",
    "    # pellet\n",
    "    if region.area == 8:\n",
    "        x, y = region.centroid\n",
    "        grid[int(x), int(y)] = 2\n",
    "        grid2[int(x/hs), int(y/ws)] = 2\n",
    "    \n",
    "    # powerup\n",
    "    if region.area == 28:\n",
    "        x, y = region.centroid\n",
    "        grid[int(x), int(y)] = 3\n",
    "        grid2[int(x/hs), int(y/ws)] = 3\n",
    "        #for cords in region.coords:\n",
    "        #    grid[cords[0], cords[1]] = 3\n",
    "        #    grid2[int(cords[0]/hs), int(cords[1]/ws)] = 3\n",
    "            \n",
    "    # player/enemy\n",
    "    if region.area in [41, 60, 76]:\n",
    "        for cords in region.coords:\n",
    "            grid[cords[0], cords[1]] = 4\n",
    "            #grid2[int(cords[0]/hs), int(cords[1]/ws)] = 4\n",
    "    \n",
    "    # obstacles\n",
    "    if region.area in [36, 80, 84, 96, 144, 192, 216, 288, 384, 432, 528, 559, 576]:\n",
    "        for cords in region.coords:\n",
    "            grid[cords[0], cords[1]] = 1\n",
    "            #grid2[int(cords[0]/hs), int(cords[1]/ws)] = 1\n",
    "            \n",
    "    \n",
    "plt.imshow(grid2)\n",
    "#plt.grid(which='minor', color='black', linewidth=1)\n",
    "#plt.grid(which='major', color='black', linewidth=1)\n",
    "#plt.minorticks_on()"
   ]
  },
  {
   "cell_type": "code",
   "execution_count": null,
   "id": "b176d54b-a9dc-45e7-a7d3-9c02065ea14c",
   "metadata": {},
   "outputs": [],
   "source": [
    "s = env.reset()\n",
    "s = rescale(s, 0.25, anti_aliasing=False)*255\n",
    "s = s[6:170,5:-5]\n",
    "\n",
    "hs = 11.7/4\n",
    "ws = 8.35/4\n",
    "\n",
    "label_img = measure.label(s, connectivity=2)\n",
    "region_props = measure.regionprops(label_img)\n",
    "\n",
    "grid = np.zeros(s.shape)\n",
    "grid2 = np.zeros((14,18))\n",
    "for region in region_props:\n",
    "    # background\n",
    "    if region.area == 617:\n",
    "        for cords in region.coords:\n",
    "            #grid[cords[0], cords[1]] = 1\n",
    "            grid2[int(cords[0]/hs), int(cords[1]/ws)] = 1\n",
    "             \n",
    "plt.imshow(grid2)"
   ]
  },
  {
   "cell_type": "code",
   "execution_count": 154,
   "id": "0d98227c-c1b6-441f-bb88-5d733f95c338",
   "metadata": {},
   "outputs": [
    {
     "data": {
      "text/plain": [
       "<matplotlib.image.AxesImage at 0x7f6dc35a2f40>"
      ]
     },
     "execution_count": 154,
     "metadata": {},
     "output_type": "execute_result"
    },
    {
     "data": {
      "image/png": "[encoded data removed]",
      "text/plain": [
       "<Figure size 640x480 with 2 Axes>"
      ]
     },
     "metadata": {},
     "output_type": "display_data"
    }
   ],
   "source": [
    "track = np.loadtxt('map/map_track.txt', dtype='i', delimiter=',')\n",
    "io.imshow(track)"
   ]
  },
  {
   "cell_type": "code",
   "execution_count": 155,
   "id": "cf4dd547-43b1-4bc7-84ca-bcc27c3033e4",
   "metadata": {},
   "outputs": [
    {
     "data": {
      "text/plain": [
       "<matplotlib.image.AxesImage at 0x7f6dc34e76d0>"
      ]
     },
     "execution_count": 155,
     "metadata": {},
     "output_type": "execute_result"
    },
    {
     "data": {
      "image/png": "[encoded data removed]",
      "text/plain": [
       "<Figure size 640x480 with 2 Axes>"
      ]
     },
     "metadata": {},
     "output_type": "display_data"
    }
   ],
   "source": [
    "pellets = np.loadtxt('map/map_pellet.txt', dtype='i', delimiter=',')\n",
    "io.imshow(pellets)"
   ]
  },
  {
   "cell_type": "code",
   "execution_count": 4,
   "id": "c51a0664-6504-4405-b8dc-15d0a6431f86",
   "metadata": {},
   "outputs": [],
   "source": [
    "pacman_col = 167\n",
    "g1_col = 110\n",
    "g2_col = 131\n",
    "g3_col = 132\n",
    "g4_col = 151"
   ]
  },
  {
   "cell_type": "code",
   "execution_count": 121,
   "id": "8a486dbd-abb4-46e5-a0f7-fe194c332205",
   "metadata": {},
   "outputs": [],
   "source": [
    "def where(s):\n",
    "    w = 18/s.shape[1]\n",
    "    h = 14/s.shape[0]\n",
    "    entities = [None,None,None,None,None]\n",
    "    \n",
    "    for x in range(s.shape[1]):\n",
    "        for y in range(s.shape[0]):\n",
    "            if not entities[0] and s[y,x]==pacman_col:\n",
    "                   entities[0]=(int(y*h),int(x*w))\n",
    "                    \n",
    "            elif not entities[1] and s[y,x]==g1_col:\n",
    "                     entities[1]=(int(y*h),int(x*w))\n",
    "                    \n",
    "            elif not entities[2] and s[y,x]==g2_col:\n",
    "                     entities[2]=(int(y*h),int(x*w))\n",
    "                    \n",
    "            elif not entities[3] and s[y,x]==g3_col:\n",
    "                     entities[3]=(int(y*h),int(x*w))\n",
    "                    \n",
    "            elif not entities[4] and s[y,x]==g4_col:\n",
    "                     entities[4]=(int(y*h),int(x*w))\n",
    "    return entities"
   ]
  },
  {
   "cell_type": "code",
   "execution_count": null,
   "id": "8987c9f7-95a0-426d-94fd-9c99ba2ddbaa",
   "metadata": {},
   "outputs": [],
   "source": [
    "s = env.reset()\n",
    "s = s[6:170,5:-5]\n",
    "\n",
    "maps = []\n",
    "states = []\n",
    "smap = track.copy()\n",
    "for i in range(100):  \n",
    "    \n",
    "    \n",
    "    entities = where(s)\n",
    "            \n",
    "    for ent in entities[0:1]:\n",
    "        if ent != None:\n",
    "            here = smap[ent[0],ent[1]]\n",
    "            #if here !=1:\n",
    "            smap[ent[0],ent[1]]=3\n",
    "                \n",
    "    for ent in entities[1:]:\n",
    "        if ent != None:\n",
    "            here = smap[ent[0],ent[1]]\n",
    "            #if here !=1:\n",
    "            smap[ent[0],ent[1]]=2\n",
    "    \n",
    "    maps.append(smap)\n",
    "    states.append(s)\n",
    "    \n",
    "    a = env.action_space.sample()\n",
    "    s, r, done, _ = env.step(a)\n",
    "    s = s[6:170,5:-5]\n"
   ]
  },
  {
   "cell_type": "code",
   "execution_count": 165,
   "id": "6366d199-8d2f-4e4e-98ab-546f94f4196d",
   "metadata": {},
   "outputs": [
    {
     "data": {
      "text/plain": [
       "<matplotlib.image.AxesImage at 0x7f6dc2f5cee0>"
      ]
     },
     "execution_count": 165,
     "metadata": {},
     "output_type": "execute_result"
    },
    {
     "data": {
      "image/png": "[encoded data removed]",
      "text/plain": [
       "<Figure size 640x480 with 1 Axes>"
      ]
     },
     "metadata": {},
     "output_type": "display_data"
    }
   ],
   "source": [
    "io.imshow(states[0])"
   ]
  },
  {
   "cell_type": "code",
   "execution_count": 166,
   "id": "947ad27c-8a7b-4888-a047-de853f2aff64",
   "metadata": {},
   "outputs": [
    {
     "data": {
      "text/plain": [
       "<matplotlib.image.AxesImage at 0x7f6dc2ecaca0>"
      ]
     },
     "execution_count": 166,
     "metadata": {},
     "output_type": "execute_result"
    },
    {
     "data": {
      "image/png": "[encoded data removed]",
      "text/plain": [
       "<Figure size 640x480 with 2 Axes>"
      ]
     },
     "metadata": {},
     "output_type": "display_data"
    }
   ],
   "source": [
    "io.imshow(maps[0])"
   ]
  }
 ],
 "metadata": {
  "kernelspec": {
   "display_name": "rl",
   "language": "python",
   "name": "rl"
  },
  "language_info": {
   "codemirror_mode": {
    "name": "ipython",
    "version": 3
   },
   "file_extension": ".py",
   "mimetype": "text/x-python",
   "name": "python",
   "nbconvert_exporter": "python",
   "pygments_lexer": "ipython3",
   "version": "3.8.0"
  }
 },
 "nbformat": 4,
 "nbformat_minor": 5
}
