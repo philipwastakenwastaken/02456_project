{
 "cells": [
  {
   "cell_type": "markdown",
   "metadata": {},
   "source": [
    "# Imports"
   ]
  },
  {
   "cell_type": "code",
   "execution_count": 1,
   "metadata": {},
   "outputs": [],
   "source": [
    "import wandb\n",
    "import pandas as pd"
   ]
  },
  {
   "cell_type": "markdown",
   "metadata": {},
   "source": [
    "# Guide\n",
    "\n",
    "See here for guide https://docs.wandb.ai/guides/track/public-api-guide"
   ]
  },
  {
   "cell_type": "markdown",
   "metadata": {},
   "source": [
    "# Single run"
   ]
  },
  {
   "cell_type": "code",
   "execution_count": null,
   "metadata": {},
   "outputs": [],
   "source": [
    "run_id = \"kn9o0vjo\"\n",
    "api = wandb.Api()\n",
    "run = api.run(\"philipwastaken/02456_project/runs/\" + run_id)\n",
    "history = run.scan_history()"
   ]
  },
  {
   "cell_type": "code",
   "execution_count": null,
   "metadata": {},
   "outputs": [],
   "source": [
    "train_dict = {'mean_train_reward':[],\n",
    "              'frame_count': [],\n",
    "              '_timestamp': []}\n",
    "\n",
    "validate_dict = {'sims_per_val':[],\n",
    "                 'avg_reward':[],\n",
    "                 'duration':[],\n",
    "                 'avg_frame_count':[]}\n",
    "\n",
    "for row in history:\n",
    "    if 'validate/sims_per_val' in row:\n",
    "        validate_dict['sims_per_val'].append(row['validate/sims_per_val'])\n",
    "        validate_dict['avg_reward'].append(row['validate/avg_reward'])\n",
    "        validate_dict['duration'].append(row['validate/duration'])\n",
    "        validate_dict['avg_frame_count'].append(row['validate/avg_frame_count'])\n",
    "    else:\n",
    "        train_dict['mean_train_reward'].append(row['mean_train_reward'])\n",
    "        train_dict['frame_count'].append(row['frame_count'])\n",
    "        train_dict['_timestamp'].append(row['_timestamp'])\n",
    "        \n",
    "train_df = pd.DataFrame(train_dict)\n",
    "validate_df = pd.DataFrame(validate_dict)"
   ]
  },
  {
   "cell_type": "code",
   "execution_count": null,
   "metadata": {},
   "outputs": [],
   "source": [
    "train_df"
   ]
  },
  {
   "cell_type": "code",
   "execution_count": null,
   "metadata": {},
   "outputs": [],
   "source": [
    "validate_df"
   ]
  },
  {
   "cell_type": "markdown",
   "metadata": {},
   "source": [
    "# Multiple Runs"
   ]
  },
  {
   "cell_type": "code",
   "execution_count": 2,
   "metadata": {},
   "outputs": [],
   "source": [
    "api = wandb.Api() \n",
    "runs = api.runs(\"philipwastaken/02456_project\")"
   ]
  },
  {
   "cell_type": "markdown",
   "metadata": {},
   "source": [
    "### TODO:\n",
    "1) Get index of runs with proper hyperparams (run.config) and didn't crash (run.summary)\n",
    "2) Sort by wrapper\n",
    "3) Calculate mean amongst different wrappers"
   ]
  },
  {
   "cell_type": "code",
   "execution_count": 9,
   "metadata": {},
   "outputs": [
    {
     "name": "stdout",
     "output_type": "stream",
     "text": [
      "{'tau': 0.01, 'gamma': 0.99, 'val_freq': 1, 'batch_size': 32, 'num_episodes': 20000, 'weight_decay': 0, 'episode_limit': 10000, 'learning_rate': 0.0003, 'prefill_memory': True, 'replay_memory_capacity': 50000}\n",
      "{'tau': 0.01, 'gamma': 0.99, 'val_freq': 1, 'batch_size': 32, 'num_episodes': 20000, 'weight_decay': 0, 'episode_limit': 10000, 'learning_rate': 0.0003, 'prefill_memory': True, 'replay_memory_capacity': 50000}\n",
      "{'tau': 0.01, 'gamma': 0.99, 'val_freq': 1, 'batch_size': 32, 'num_episodes': 20000, 'weight_decay': 0, 'episode_limit': 10000, 'learning_rate': 0.0003, 'prefill_memory': True, 'replay_memory_capacity': 50000}\n",
      "{'tau': 0.01, 'gamma': 0.99, 'val_freq': 1, 'batch_size': 32, 'num_episodes': 20000, 'weight_decay': 0, 'episode_limit': 10000, 'learning_rate': 0.0003, 'prefill_memory': True, 'replay_memory_capacity': 50000}\n",
      "{'tau': 0.01, 'gamma': 0.99, 'val_freq': 1, 'batch_size': 32, 'num_episodes': 20000, 'weight_decay': 0, 'episode_limit': 10000, 'learning_rate': 0.0003, 'prefill_memory': True, 'replay_memory_capacity': 50000}\n",
      "{'tau': 0.01, 'gamma': 0.99, 'val_freq': 1, 'batch_size': 32, 'num_episodes': 20000, 'weight_decay': 0, 'episode_limit': 10000, 'learning_rate': 0.0003, 'prefill_memory': True, 'replay_memory_capacity': 50000}\n",
      "{'tau': 0.01, 'gamma': 0.99, 'val_freq': 1, 'batch_size': 32, 'num_episodes': 20000, 'weight_decay': 0, 'episode_limit': 10000, 'learning_rate': 0.0003, 'prefill_memory': True, 'replay_memory_capacity': 50000}\n",
      "{'tau': 0.01, 'gamma': 0.99, 'val_freq': 1, 'batch_size': 32, 'num_episodes': 20000, 'weight_decay': 0, 'episode_limit': 10000, 'learning_rate': 0.0003, 'prefill_memory': True, 'replay_memory_capacity': 50000}\n",
      "{'tau': 0.01, 'gamma': 0.99, 'val_freq': 1, 'batch_size': 32, 'num_episodes': 20000, 'weight_decay': 0, 'episode_limit': 10000, 'learning_rate': 0.0003, 'prefill_memory': True, 'replay_memory_capacity': 50000}\n",
      "{'tau': 0.01, 'gamma': 0.99, 'val_freq': 1, 'batch_size': 32, 'num_episodes': 20000, 'weight_decay': 0, 'episode_limit': 10000, 'learning_rate': 0.0003, 'prefill_memory': True, 'replay_memory_capacity': 50000}\n",
      "{'tau': 0.01, 'gamma': 0.99, 'val_freq': 1, 'batch_size': 32, 'num_episodes': 30000, 'weight_decay': 0, 'episode_limit': 10000, 'learning_rate': 0.0003, 'prefill_memory': True, 'replay_memory_capacity': 150000}\n",
      "{'tau': 0.01, 'gamma': 0.99, 'val_freq': 1, 'batch_size': 32, 'num_episodes': 20000, 'weight_decay': 0, 'episode_limit': 10000, 'learning_rate': 0.0003, 'prefill_memory': True, 'replay_memory_capacity': 50000}\n",
      "{'tau': 0.01, 'gamma': 0.99, 'val_freq': 1, 'batch_size': 32, 'num_episodes': 20000, 'weight_decay': 0, 'episode_limit': 10000, 'learning_rate': 0.0003, 'prefill_memory': True, 'replay_memory_capacity': 50000}\n",
      "{'tau': 0.01, 'gamma': 0.99, 'val_freq': 1, 'batch_size': 32, 'num_episodes': 20000, 'weight_decay': 0, 'episode_limit': 10000, 'learning_rate': 0.0003, 'prefill_memory': True, 'replay_memory_capacity': 50000}\n",
      "{'tau': 0.01, 'gamma': 0.99, 'val_freq': 1, 'batch_size': 32, 'num_episodes': 20000, 'weight_decay': 0, 'episode_limit': 10000, 'learning_rate': 0.0003, 'prefill_memory': True, 'replay_memory_capacity': 50000}\n",
      "{'tau': 0.01, 'gamma': 0.99, 'val_freq': 1, 'batch_size': 32, 'num_episodes': 20000, 'weight_decay': 0, 'episode_limit': 10000, 'learning_rate': 0.0003, 'prefill_memory': True, 'replay_memory_capacity': 50000}\n",
      "{'tau': 0.01, 'gamma': 0.99, 'val_freq': 1, 'batch_size': 32, 'num_episodes': 20000, 'weight_decay': 0, 'episode_limit': 10000, 'learning_rate': 0.0003, 'prefill_memory': True, 'replay_memory_capacity': 50000}\n",
      "{'tau': 0.01, 'gamma': 0.99, 'val_freq': 1, 'batch_size': 32, 'num_episodes': 30000, 'weight_decay': 0, 'episode_limit': 10000, 'learning_rate': 0.0003, 'prefill_memory': True, 'replay_memory_capacity': 150000}\n",
      "{'tau': 0.01, 'gamma': 0.99, 'val_freq': 1, 'batch_size': 32, 'num_episodes': 30000, 'weight_decay': 0, 'episode_limit': 10000, 'learning_rate': 0.0003, 'prefill_memory': True, 'replay_memory_capacity': 50000}\n",
      "{'tau': 0.01, 'gamma': 0.99, 'val_freq': 1, 'batch_size': 32, 'num_episodes': 30000, 'weight_decay': 0, 'episode_limit': 10000, 'learning_rate': 0.0003, 'prefill_memory': True, 'replay_memory_capacity': 150000}\n",
      "{'tau': 0.01, 'gamma': 0.99, 'val_freq': 1, 'batch_size': 32, 'num_episodes': 30000, 'weight_decay': 0, 'episode_limit': 10000, 'learning_rate': 0.0003, 'prefill_memory': True, 'replay_memory_capacity': 150000}\n",
      "{'tau': 0.01, 'gamma': 0.99, 'val_freq': 1, 'batch_size': 32, 'num_episodes': 30000, 'weight_decay': 0, 'episode_limit': 10000, 'learning_rate': 0.0003, 'prefill_memory': True, 'replay_memory_capacity': 150000}\n",
      "{'tau': 0.01, 'gamma': 0.99, 'val_freq': 1, 'batch_size': 16, 'num_episodes': 100000, 'weight_decay': 0.1, 'episode_limit': 10000, 'learning_rate': 0.0003, 'prefill_memory': True, 'replay_memory_capacity': 500000}\n",
      "{'tau': 0.01, 'gamma': 0.99, 'val_freq': 1, 'batch_size': 32, 'num_episodes': 20000, 'weight_decay': 0, 'episode_limit': 10000, 'learning_rate': 0.0003, 'prefill_memory': True, 'replay_memory_capacity': 50000}\n",
      "{'tau': 0.01, 'gamma': 0.99, 'val_freq': 1, 'batch_size': 32, 'num_episodes': 30000, 'weight_decay': 0, 'episode_limit': 10000, 'learning_rate': 0.0003, 'prefill_memory': True, 'replay_memory_capacity': 50000}\n",
      "{'tau': 0.01, 'gamma': 0.99, 'val_freq': 1, 'batch_size': 32, 'num_episodes': 30000, 'weight_decay': 0, 'episode_limit': 10000, 'learning_rate': 0.0003, 'prefill_memory': True, 'replay_memory_capacity': 50000}\n",
      "{'tau': 0.01, 'gamma': 0.99, 'val_freq': 1, 'batch_size': 32, 'num_episodes': 20000, 'weight_decay': 0, 'episode_limit': 10000, 'learning_rate': 0.0003, 'prefill_memory': True, 'replay_memory_capacity': 50000}\n",
      "{'tau': 0.01, 'gamma': 0.99, 'val_freq': 1, 'batch_size': 32, 'num_episodes': 20000, 'weight_decay': 0, 'episode_limit': 10000, 'learning_rate': 0.0003, 'prefill_memory': True, 'replay_memory_capacity': 50000}\n",
      "{'tau': 0.01, 'gamma': 0.99, 'val_freq': 1, 'batch_size': 32, 'num_episodes': 20000, 'weight_decay': 0, 'episode_limit': 10000, 'learning_rate': 0.0003, 'prefill_memory': True, 'replay_memory_capacity': 50000}\n",
      "{'tau': 0.01, 'gamma': 0.99, 'val_freq': 1, 'batch_size': 32, 'num_episodes': 30000, 'weight_decay': 0, 'episode_limit': 10000, 'learning_rate': 0.0003, 'prefill_memory': True, 'replay_memory_capacity': 50000}\n",
      "{'tau': 0.01, 'gamma': 0.99, 'val_freq': 1, 'batch_size': 32, 'num_episodes': 30000, 'weight_decay': 0, 'episode_limit': 10000, 'learning_rate': 0.0003, 'prefill_memory': True, 'replay_memory_capacity': 50000}\n",
      "{'tau': 0.01, 'gamma': 0.99, 'val_freq': 1, 'batch_size': 32, 'num_episodes': 30000, 'weight_decay': 0, 'episode_limit': 10000, 'learning_rate': 0.0003, 'prefill_memory': True, 'replay_memory_capacity': 50000}\n",
      "{'tau': 0.01, 'gamma': 0.99, 'val_freq': 1, 'batch_size': 32, 'num_episodes': 30000, 'weight_decay': 0, 'episode_limit': 10000, 'learning_rate': 0.0003, 'prefill_memory': True, 'replay_memory_capacity': 150000}\n",
      "{'tau': 0.01, 'gamma': 0.99, 'val_freq': 1, 'batch_size': 32, 'num_episodes': 30000, 'weight_decay': 0, 'episode_limit': 10000, 'learning_rate': 0.0003, 'prefill_memory': True, 'replay_memory_capacity': 150000}\n",
      "{'tau': 0.01, 'gamma': 0.99, 'val_freq': 1, 'batch_size': 32, 'num_episodes': 30000, 'weight_decay': 0, 'episode_limit': 10000, 'learning_rate': 0.0003, 'prefill_memory': True, 'replay_memory_capacity': 50000}\n",
      "{'tau': 0.01, 'gamma': 0.99, 'val_freq': 1, 'batch_size': 32, 'num_episodes': 30000, 'weight_decay': 0, 'episode_limit': 10000, 'learning_rate': 0.0003, 'prefill_memory': True, 'replay_memory_capacity': 50000}\n",
      "{'tau': 0.01, 'gamma': 0.99, 'val_freq': 1, 'batch_size': 32, 'num_episodes': 30000, 'weight_decay': 0, 'episode_limit': 10000, 'learning_rate': 0.0003, 'prefill_memory': True, 'replay_memory_capacity': 50000}\n",
      "{'tau': 0.01, 'gamma': 0.99, 'val_freq': 1, 'batch_size': 32, 'num_episodes': 30000, 'weight_decay': 0, 'episode_limit': 10000, 'learning_rate': 0.0003, 'prefill_memory': True, 'replay_memory_capacity': 150000}\n",
      "{'tau': 0.01, 'gamma': 0.99, 'val_freq': 1, 'batch_size': 32, 'num_episodes': 30000, 'weight_decay': 0, 'episode_limit': 10000, 'learning_rate': 0.0003, 'prefill_memory': True, 'replay_memory_capacity': 150000}\n",
      "{'tau': 0.01, 'gamma': 0.99, 'val_freq': 1, 'batch_size': 32, 'num_episodes': 30000, 'weight_decay': 0, 'episode_limit': 10000, 'learning_rate': 0.0003, 'prefill_memory': True, 'replay_memory_capacity': 150000}\n",
      "{'tau': 0.01, 'gamma': 0.99, 'val_freq': 1, 'batch_size': 32, 'num_episodes': 30000, 'weight_decay': 0, 'episode_limit': 10000, 'learning_rate': 0.0003, 'prefill_memory': True, 'replay_memory_capacity': 150000}\n",
      "{'tau': 0.01, 'gamma': 0.99, 'val_freq': 1, 'batch_size': 16, 'num_episodes': 100000, 'weight_decay': 0.1, 'episode_limit': 10000, 'learning_rate': 0.0003, 'prefill_memory': True, 'replay_memory_capacity': 500000}\n",
      "{'tau': 0.01, 'gamma': 0.99, 'val_freq': 1, 'batch_size': 32, 'num_episodes': 30000, 'weight_decay': 0, 'episode_limit': 10000, 'learning_rate': 0.0003, 'prefill_memory': True, 'replay_memory_capacity': 150000}\n",
      "{'tau': 0.01, 'gamma': 0.99, 'val_freq': 1, 'batch_size': 32, 'num_episodes': 30000, 'weight_decay': 0, 'episode_limit': 10000, 'learning_rate': 0.0003, 'prefill_memory': True, 'replay_memory_capacity': 150000}\n",
      "{'tau': 0.01, 'gamma': 0.99, 'val_freq': 1, 'batch_size': 32, 'num_episodes': 30000, 'weight_decay': 0.1, 'episode_limit': 10000, 'learning_rate': 0.00032, 'prefill_memory': True, 'replay_memory_capacity': 150000}\n",
      "{'tau': 0.01, 'gamma': 0.99, 'val_freq': 1, 'batch_size': 32, 'num_episodes': 30000, 'weight_decay': 0.1, 'episode_limit': 10000, 'learning_rate': 0.00032, 'prefill_memory': True, 'replay_memory_capacity': 150000}\n",
      "{'tau': 0.01, 'gamma': 0.99, 'val_freq': 1, 'batch_size': 32, 'num_episodes': 30000, 'weight_decay': 0.1, 'episode_limit': 10000, 'learning_rate': 0.00032, 'prefill_memory': True, 'replay_memory_capacity': 150000}\n",
      "{'tau': 0.01, 'gamma': 0.99, 'val_freq': 1, 'batch_size': 32, 'num_episodes': 30000, 'weight_decay': 0.1, 'episode_limit': 10000, 'learning_rate': 0.00032, 'prefill_memory': True, 'replay_memory_capacity': 150000}\n",
      "{'tau': 0.01, 'gamma': 0.99, 'val_freq': 1, 'batch_size': 16, 'num_episodes': 100000, 'weight_decay': 0.1, 'episode_limit': 10000, 'learning_rate': 0.0003, 'prefill_memory': True, 'replay_memory_capacity': 500000}\n",
      "{'tau': 0.01, 'gamma': 0.99, 'val_freq': 1, 'batch_size': 32, 'num_episodes': 30000, 'weight_decay': 0.1, 'episode_limit': 10000, 'learning_rate': 0.00032, 'prefill_memory': True, 'replay_memory_capacity': 250000}\n",
      "{'tau': 0.01, 'gamma': 0.99, 'val_freq': 1, 'batch_size': 32, 'num_episodes': 30000, 'weight_decay': 0.1, 'episode_limit': 10000, 'learning_rate': 0.00032, 'prefill_memory': True, 'replay_memory_capacity': 250000}\n",
      "{'tau': 0.01, 'gamma': 0.99, 'val_freq': 1, 'batch_size': 32, 'num_episodes': 30000, 'weight_decay': 0.1, 'episode_limit': 10000, 'learning_rate': 0.00032, 'prefill_memory': True, 'replay_memory_capacity': 250000}\n",
      "{'tau': 0.01, 'gamma': 0.99, 'val_freq': 1, 'batch_size': 32, 'num_episodes': 30000, 'weight_decay': 0.1, 'episode_limit': 10000, 'learning_rate': 0.00032, 'prefill_memory': True, 'replay_memory_capacity': 250000}\n",
      "{'tau': 0.01, 'gamma': 0.99, 'val_freq': 1, 'batch_size': 32, 'num_episodes': 30000, 'weight_decay': 0.1, 'episode_limit': 10000, 'learning_rate': 0.00031, 'prefill_memory': True, 'replay_memory_capacity': 150000}\n",
      "{'tau': 0.01, 'gamma': 0.99, 'val_freq': 1, 'batch_size': 32, 'num_episodes': 30000, 'weight_decay': 0.1, 'episode_limit': 10000, 'learning_rate': 0.00031, 'prefill_memory': True, 'replay_memory_capacity': 150000}\n",
      "{'tau': 0.01, 'gamma': 0.99, 'val_freq': 1, 'batch_size': 32, 'num_episodes': 30000, 'weight_decay': 0.1, 'episode_limit': 10000, 'learning_rate': 0.00031, 'prefill_memory': True, 'replay_memory_capacity': 150000}\n",
      "{'tau': 0.01, 'gamma': 0.99, 'val_freq': 1, 'batch_size': 32, 'num_episodes': 30000, 'weight_decay': 0.1, 'episode_limit': 10000, 'learning_rate': 0.00031, 'prefill_memory': True, 'replay_memory_capacity': 150000}\n",
      "{'tau': 0.01, 'gamma': 0.99, 'val_freq': 1, 'batch_size': 32, 'num_episodes': 100000, 'weight_decay': 0.1, 'episode_limit': 10000, 'learning_rate': 0.0003, 'prefill_memory': True, 'replay_memory_capacity': 250000}\n",
      "{'tau': 0.01, 'gamma': 0.99, 'val_freq': 1, 'batch_size': 32, 'num_episodes': 100000, 'weight_decay': 0.1, 'episode_limit': 10000, 'learning_rate': 0.0003, 'prefill_memory': True, 'replay_memory_capacity': 250000}\n",
      "{'tau': 0.01, 'gamma': 0.99, 'val_freq': 1, 'batch_size': 32, 'num_episodes': 50000, 'weight_decay': 0.1, 'episode_limit': 10000, 'learning_rate': 0.00031, 'prefill_memory': True, 'replay_memory_capacity': 500000}\n",
      "{'tau': 0.01, 'gamma': 0.99, 'val_freq': 1, 'batch_size': 32, 'num_episodes': 50000, 'weight_decay': 0.1, 'episode_limit': 10000, 'learning_rate': 0.00031, 'prefill_memory': True, 'replay_memory_capacity': 500000}\n",
      "{'tau': 0.01, 'gamma': 0.99, 'val_freq': 1, 'batch_size': 32, 'num_episodes': 50000, 'weight_decay': 0.1, 'episode_limit': 10000, 'learning_rate': 0.00031, 'prefill_memory': True, 'replay_memory_capacity': 500000}\n",
      "{'tau': 0.01, 'gamma': 0.99, 'val_freq': 1, 'batch_size': 32, 'num_episodes': 100000, 'weight_decay': 0.1, 'episode_limit': 10000, 'learning_rate': 0.0003, 'prefill_memory': True, 'replay_memory_capacity': 500000}\n",
      "{'tau': 0.01, 'gamma': 0.99, 'val_freq': 1, 'batch_size': 32, 'num_episodes': 100000, 'weight_decay': 0.1, 'episode_limit': 10000, 'learning_rate': 0.0003, 'prefill_memory': True, 'replay_memory_capacity': 500000}\n",
      "{'tau': 0.01, 'gamma': 0.99, 'val_freq': 1, 'batch_size': 32, 'num_episodes': 100000, 'weight_decay': 0.1, 'episode_limit': 10000, 'learning_rate': 0.0003, 'prefill_memory': True, 'replay_memory_capacity': 500000}\n",
      "{'tau': 0.01, 'gamma': 0.99, 'val_freq': 1, 'batch_size': 32, 'num_episodes': 20000, 'weight_decay': 0.1, 'episode_limit': 10000, 'learning_rate': 0.00031, 'prefill_memory': True, 'replay_memory_capacity': 500000}\n",
      "{'tau': 0.01, 'gamma': 0.99, 'val_freq': 1, 'batch_size': 32, 'num_episodes': 20000, 'weight_decay': 0.1, 'episode_limit': 10000, 'learning_rate': 0.00031, 'prefill_memory': True, 'replay_memory_capacity': 500000}\n",
      "{'tau': 0.01, 'gamma': 0.99, 'val_freq': 1, 'batch_size': 32, 'num_episodes': 20000, 'weight_decay': 0.1, 'episode_limit': 10000, 'learning_rate': 0.00031, 'prefill_memory': True, 'replay_memory_capacity': 500000}\n",
      "{'tau': 0.01, 'gamma': 0.99, 'val_freq': 1, 'batch_size': 32, 'num_episodes': 20000, 'weight_decay': 0.1, 'episode_limit': 10000, 'learning_rate': 0.00031, 'prefill_memory': True, 'replay_memory_capacity': 500000}\n",
      "{'tau': 0.01, 'gamma': 0.99, 'val_freq': 1, 'batch_size': 32, 'num_episodes': 100000, 'weight_decay': 0, 'episode_limit': 10000, 'learning_rate': 0.0003, 'prefill_memory': True, 'replay_memory_capacity': 500000}\n",
      "{'tau': 0.01, 'gamma': 0.99, 'val_freq': 1, 'batch_size': 32, 'num_episodes': 100, 'weight_decay': 0.1, 'episode_limit': 10000, 'learning_rate': 0.0003, 'prefill_memory': True, 'replay_memory_capacity': 1000}\n",
      "{'tau': 0.01, 'gamma': 0.99, 'val_freq': 1, 'batch_size': 16, 'num_episodes': 100000, 'weight_decay': 0, 'episode_limit': 10000, 'learning_rate': 0.0003, 'prefill_memory': True, 'replay_memory_capacity': 500000}\n",
      "{'tau': 0.01, 'gamma': 0.99, 'val_freq': 1, 'batch_size': 16, 'num_episodes': 10000, 'episode_limit': 10000, 'learning_rate': 0.00031, 'prefill_memory': True, 'replay_memory_capacity': 100}\n",
      "{'tau': 0.01, 'gamma': 0.99, 'val_freq': 1, 'batch_size': 16, 'num_episodes': 10000, 'episode_limit': 10000, 'learning_rate': 0.00031, 'prefill_memory': True, 'replay_memory_capacity': 100}\n",
      "{'tau': 0.01, 'gamma': 0.99, 'val_freq': 1, 'batch_size': 16, 'num_episodes': 10000, 'episode_limit': 10000, 'learning_rate': 0.00031, 'prefill_memory': True, 'replay_memory_capacity': 100}\n",
      "{'tau': 0.01, 'gamma': 0.99, 'val_freq': 1, 'batch_size': 16, 'num_episodes': 10000, 'episode_limit': 10000, 'learning_rate': 0.00031, 'prefill_memory': True, 'replay_memory_capacity': 100}\n",
      "{'tau': 0.01, 'gamma': 0.99, 'val_freq': 1, 'batch_size': 16, 'num_episodes': 100000, 'weight_decay': 0.1, 'episode_limit': 10000, 'learning_rate': 0.0003, 'prefill_memory': True, 'replay_memory_capacity': 500000}\n",
      "{'tau': 0.01, 'gamma': 0.9, 'val_freq': 1, 'batch_size': 16, 'num_episodes': 10000, 'episode_limit': 10000, 'learning_rate': 0.00031, 'prefill_memory': True, 'replay_memory_capacity': 100}\n",
      "{'tau': 0.01, 'gamma': 0.9, 'val_freq': 1, 'batch_size': 16, 'num_episodes': 10000, 'episode_limit': 10000, 'learning_rate': 0.00031, 'prefill_memory': True, 'replay_memory_capacity': 100}\n",
      "{'tau': 0.01, 'gamma': 0.9, 'val_freq': 1, 'batch_size': 16, 'num_episodes': 10000, 'episode_limit': 10000, 'learning_rate': 0.00031, 'prefill_memory': True, 'replay_memory_capacity': 100}\n",
      "{'tau': 0.01, 'gamma': 0.9, 'val_freq': 1, 'batch_size': 16, 'num_episodes': 10000, 'episode_limit': 10000, 'learning_rate': 0.00031, 'prefill_memory': True, 'replay_memory_capacity': 100}\n",
      "{'tau': 0.01, 'gamma': 0.99, 'val_freq': 1, 'batch_size': 16, 'num_episodes': 100, 'episode_limit': 10000, 'learning_rate': 0.0003, 'prefill_memory': True, 'replay_memory_capacity': 100}\n",
      "{'tau': 0.01, 'gamma': 0.9, 'val_freq': 1, 'batch_size': 64, 'num_episodes': 50000, 'episode_limit': 10000, 'learning_rate': 0.0003, 'prefill_memory': True, 'replay_memory_capacity': 100}\n",
      "{'tau': 0.01, 'gamma': 0.99, 'val_freq': 1, 'batch_size': 32, 'num_episodes': 100000, 'weight_decay': 0.1, 'episode_limit': 10000, 'learning_rate': 0.0003, 'prefill_memory': True, 'replay_memory_capacity': 500000}\n",
      "{'tau': 0.01, 'gamma': 0.99, 'val_freq': 1, 'batch_size': 16, 'num_episodes': 100000, 'weight_decay': 0.1, 'episode_limit': 10000, 'learning_rate': 0.0003, 'prefill_memory': True, 'replay_memory_capacity': 500000}\n",
      "{'tau': 0.01, 'gamma': 0.9, 'val_freq': 1, 'batch_size': 16, 'num_episodes': 50000, 'episode_limit': 10000, 'learning_rate': 0.0003, 'prefill_memory': True, 'replay_memory_capacity': 100}\n",
      "{'tau': 0.01, 'gamma': 0.99, 'val_freq': 1, 'batch_size': 16, 'num_episodes': 100000, 'weight_decay': 0.1, 'episode_limit': 10000, 'learning_rate': 0.0003, 'prefill_memory': True, 'replay_memory_capacity': 500000}\n",
      "{'tau': 0.01, 'gamma': 0.9, 'val_freq': 1, 'batch_size': 4, 'num_episodes': 50000, 'episode_limit': 10000, 'learning_rate': 0.00031, 'prefill_memory': True, 'replay_memory_capacity': 100}\n",
      "{'tau': 0.01, 'gamma': 0.9, 'val_freq': 1, 'batch_size': 1, 'num_episodes': 50000, 'episode_limit': 10000, 'learning_rate': 0.00031, 'prefill_memory': True, 'replay_memory_capacity': 100}\n",
      "{'tau': 0.01, 'gamma': 0.9, 'val_freq': 1, 'batch_size': 1, 'num_episodes': 50000, 'episode_limit': 10000, 'learning_rate': 0.0003, 'prefill_memory': True, 'replay_memory_capacity': 100}\n",
      "{'tau': 0.01, 'gamma': 0.99, 'val_freq': 1, 'batch_size': 16, 'num_episodes': 100000, 'weight_decay': 0.1, 'episode_limit': 10000, 'learning_rate': 0.0003, 'prefill_memory': True, 'replay_memory_capacity': 500000}\n",
      "{'tau': 0.01, 'gamma': 0.99, 'val_freq': 1, 'batch_size': 16, 'num_episodes': 100000, 'weight_decay': 0.1, 'episode_limit': 10000, 'learning_rate': 0.0003, 'prefill_memory': True, 'replay_memory_capacity': 500000}\n",
      "{'tau': 0.01, 'gamma': 0.9, 'val_freq': 1, 'batch_size': 8, 'num_episodes': 50000, 'episode_limit': 10000, 'learning_rate': 0.00032, 'prefill_memory': True, 'replay_memory_capacity': 100}\n",
      "{'tau': 0.01, 'gamma': 0.9, 'val_freq': 1, 'batch_size': 8, 'num_episodes': 50000, 'episode_limit': 10000, 'learning_rate': 0.00032, 'prefill_memory': True, 'replay_memory_capacity': 100}\n",
      "{'tau': 0.01, 'gamma': 0.99, 'val_freq': 1, 'batch_size': 32, 'num_episodes': 100000, 'weight_decay': 0.1, 'episode_limit': 10000, 'learning_rate': 0.0003, 'prefill_memory': True, 'replay_memory_capacity': 500000}\n",
      "{'tau': 0.01, 'gamma': 0.9, 'val_freq': 1, 'batch_size': 64, 'num_episodes': 2, 'episode_limit': 10000, 'learning_rate': 1e-05, 'prefill_memory': True, 'replay_memory_capacity': 100}\n",
      "{'tau': 0.01, 'gamma': 0.9, 'val_freq': 1, 'batch_size': 16, 'num_episodes': 50000, 'episode_limit': 10000, 'learning_rate': 0.00031, 'prefill_memory': True, 'replay_memory_capacity': 100}\n",
      "{'tau': 0.01, 'gamma': 0.9, 'val_freq': 1, 'batch_size': 1, 'num_episodes': 50000, 'episode_limit': 10000, 'learning_rate': 0.00031, 'prefill_memory': True, 'replay_memory_capacity': 100}\n",
      "{'tau': 0.01, 'gamma': 0.9, 'val_freq': 1, 'batch_size': 64, 'num_episodes': 5000, 'episode_limit': 10000, 'learning_rate': 0.00031, 'prefill_memory': True, 'replay_memory_capacity': 100}\n",
      "{'tau': 0.01, 'gamma': 0.9, 'val_freq': 1, 'batch_size': 96, 'num_episodes': 20000, 'episode_limit': 10000, 'learning_rate': 0.00031, 'prefill_memory': True, 'replay_memory_capacity': 100}\n",
      "{'tau': 0.01, 'gamma': 0.9, 'val_freq': 1, 'batch_size': 128, 'num_episodes': 20000, 'episode_limit': 10000, 'learning_rate': 0.00031, 'prefill_memory': True, 'replay_memory_capacity': 100}\n",
      "{'tau': 0.01, 'gamma': 0.9, 'val_freq': 1, 'batch_size': 32, 'num_episodes': 20000, 'episode_limit': 10000, 'learning_rate': 0.00031, 'prefill_memory': True, 'replay_memory_capacity': 100}\n",
      "{'tau': 0.01, 'gamma': 0.9, 'val_freq': 1, 'batch_size': 1, 'num_episodes': 20000, 'episode_limit': 10000, 'learning_rate': 0.00031, 'prefill_memory': True, 'replay_memory_capacity': 100}\n",
      "{'tau': 0.01, 'gamma': 0.9, 'val_freq': 1, 'batch_size': 64, 'num_episodes': 2000000, 'episode_limit': 10000, 'learning_rate': 0.0003, 'prefill_memory': True, 'replay_memory_capacity': 100}\n",
      "{'tau': 0.01, 'gamma': 0.9, 'val_freq': 1, 'batch_size': 64, 'num_episodes': 2000000, 'episode_limit': 10000, 'learning_rate': 0.0003, 'prefill_memory': True, 'replay_memory_capacity': 100}\n",
      "{'tau': 0.01, 'gamma': 0.9, 'val_freq': 1, 'batch_size': 64, 'num_episodes': 2000000, 'episode_limit': 10000, 'learning_rate': 0.0003, 'prefill_memory': True, 'replay_memory_capacity': 100}\n",
      "{'tau': 0.01, 'gamma': 0.9, 'val_freq': 1, 'batch_size': 64, 'num_episodes': 5000, 'episode_limit': 10000, 'learning_rate': 1e-05, 'prefill_memory': True, 'replay_memory_capacity': 100}\n",
      "{'tau': 0.01, 'gamma': 0.9, 'val_freq': 1, 'batch_size': 64, 'num_episodes': 2000000, 'episode_limit': 10000, 'learning_rate': 0.0003, 'prefill_memory': True, 'replay_memory_capacity': 100}\n",
      "{'tau': 0.01, 'gamma': 0.9, 'val_freq': 1, 'batch_size': 64, 'num_episodes': 20000, 'episode_limit': 10000, 'learning_rate': 1e-05, 'prefill_memory': True, 'replay_memory_capacity': 100}\n",
      "{'tau': 0.01, 'gamma': 0.9, 'val_freq': 1, 'batch_size': 64, 'num_episodes': 2, 'episode_limit': 10000, 'learning_rate': 1e-05, 'prefill_memory': True, 'replay_memory_capacity': 100}\n",
      "{'tau': 0.01, 'gamma': 0.9, 'val_freq': 1, 'batch_size': 64, 'num_episodes': 2000000, 'episode_limit': 10000, 'learning_rate': 0.0003, 'prefill_memory': True, 'replay_memory_capacity': 100}\n",
      "{'tau': 0.01, 'gamma': 0.9, 'val_freq': 1, 'batch_size': 64, 'num_episodes': 2000000, 'episode_limit': 10000, 'learning_rate': 0.0003, 'prefill_memory': True, 'replay_memory_capacity': 100}\n",
      "{'tau': 0.01, 'gamma': 0.9, 'val_freq': 1, 'batch_size': 64, 'num_episodes': 2000000, 'episode_limit': 10000, 'learning_rate': 0.0003, 'prefill_memory': True, 'replay_memory_capacity': 100}\n",
      "{'tau': 0.01, 'gamma': 0.9, 'val_freq': 1, 'batch_size': 64, 'num_episodes': 2000000, 'episode_limit': 10000, 'learning_rate': 0.0003, 'prefill_memory': True, 'replay_memory_capacity': 100}\n",
      "{'tau': 0.01, 'gamma': 0.9, 'val_freq': 1, 'batch_size': 64, 'num_episodes': 2000000, 'episode_limit': 10000, 'learning_rate': 0.0003, 'prefill_memory': True, 'replay_memory_capacity': 100}\n",
      "{'tau': 0.01, 'gamma': 0.9, 'val_freq': 1, 'batch_size': 32, 'num_episodes': 50000, 'weight_decay': 0.1, 'episode_limit': 300, 'learning_rate': 0.0003, 'prefill_memory': True, 'replay_memory_capacity': 100}\n",
      "{'tau': 0.01, 'gamma': 0.9, 'val_freq': 1, 'batch_size': 32, 'num_episodes': 5000, 'weight_decay': 0.1, 'episode_limit': 300, 'learning_rate': 0.001, 'prefill_memory': True, 'replay_memory_capacity': 100}\n",
      "{'tau': 0.01, 'gamma': 0.9, 'val_freq': 1, 'batch_size': 32, 'num_episodes': 5000, 'episode_limit': 300, 'learning_rate': 0.001, 'prefill_memory': True, 'replay_memory_capacity': 100}\n",
      "{'tau': 0.01, 'gamma': 0.9, 'val_freq': 1, 'batch_size': 64, 'num_episodes': 100, 'episode_limit': 300, 'learning_rate': 1e-05, 'prefill_memory': True, 'replay_memory_capacity': 100}\n",
      "{'tau': 0.01, 'gamma': 0.9, 'val_freq': 1, 'batch_size': 64, 'num_episodes': 2000000, 'episode_limit': 300, 'learning_rate': 0.0003, 'prefill_memory': True, 'replay_memory_capacity': 100}\n",
      "{'tau': 0.01, 'gamma': 0.9, 'val_freq': 1, 'batch_size': 64, 'num_episodes': 2000000, 'episode_limit': 300, 'learning_rate': 0.0003, 'prefill_memory': True, 'replay_memory_capacity': 100}\n",
      "{'tau': 0.01, 'gamma': 0.9, 'val_freq': 1, 'batch_size': 64, 'num_episodes': 2000000, 'episode_limit': 300, 'learning_rate': 0.0003, 'prefill_memory': True, 'replay_memory_capacity': 100}\n",
      "{'tau': 0.01, 'gamma': 0.9, 'val_freq': 1, 'batch_size': 1, 'num_episodes': 20000, 'episode_limit': 300, 'learning_rate': 0.0003, 'prefill_memory': True, 'replay_memory_capacity': 100}\n"
     ]
    }
   ],
   "source": [
    "for run in runs: \n",
    "    conf = run.config\n",
    "    print(conf['update'])"
   ]
  }
 ],
 "metadata": {
  "kernelspec": {
   "display_name": "rl",
   "language": "python",
   "name": "rl"
  },
  "language_info": {
   "codemirror_mode": {
    "name": "ipython",
    "version": 3
   },
   "file_extension": ".py",
   "mimetype": "text/x-python",
   "name": "python",
   "nbconvert_exporter": "python",
   "pygments_lexer": "ipython3",
   "version": "3.8.0"
  },
  "vscode": {
   "interpreter": {
    "hash": "d1b1598dfd2c6b12a5fc6a1df3312ec525d6797b4f00f950f4e2653cd61371e9"
   }
  }
 },
 "nbformat": 4,
 "nbformat_minor": 4
}
