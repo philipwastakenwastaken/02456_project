{
 "cells": [
  {
   "cell_type": "markdown",
   "metadata": {},
   "source": [
    "# Imports"
   ]
  },
  {
   "cell_type": "code",
   "execution_count": null,
   "metadata": {},
   "outputs": [],
   "source": [
    "import wandb\n",
    "import pandas as pd"
   ]
  },
  {
   "cell_type": "markdown",
   "metadata": {},
   "source": [
    "# Guide\n",
    "\n",
    "See here for guide https://docs.wandb.ai/guides/track/public-api-guide"
   ]
  },
  {
   "cell_type": "markdown",
   "metadata": {},
   "source": [
    "# Single run"
   ]
  },
  {
   "cell_type": "code",
   "execution_count": null,
   "metadata": {},
   "outputs": [],
   "source": [
    "run_id = \"kn9o0vjo\"\n",
    "api = wandb.Api()\n",
    "run = api.run(\"philipwastaken/02456_project/runs/\" + run_id)\n",
    "history = run.scan_history()"
   ]
  },
  {
   "cell_type": "code",
   "execution_count": null,
   "metadata": {},
   "outputs": [],
   "source": [
    "train_dict = {'mean_train_reward':[],\n",
    "            'frame_count': [],\n",
    "            '_timestamp': []}\n",
    "\n",
    "validate_dict = {'sims_per_val':[],\n",
    "               'avg_reward':[],\n",
    "               'duration':[],\n",
    "               'avg_frame_count':[]}\n",
    "\n",
    "for row in history:\n",
    "    if 'validate/sims_per_val' in row:\n",
    "        validate_dict['sims_per_val'].append(row['validate/sims_per_val'])\n",
    "        validate_dict['avg_reward'].append(row['validate/avg_reward'])\n",
    "        validate_dict['duration'].append(row['validate/duration'])\n",
    "        validate_dict['avg_frame_count'].append(row['validate/avg_frame_count'])\n",
    "    else:\n",
    "        train_dict['mean_train_reward'].append(row['mean_train_reward'])\n",
    "        train_dict['frame_count'].append(row['frame_count'])\n",
    "        train_dict['_timestamp'].append(row['_timestamp'])\n",
    "        \n",
    "train_df = pd.DataFrame(train_dict)\n",
    "validate_df = pd.DataFrame(validate_dict)"
   ]
  },
  {
   "cell_type": "code",
   "execution_count": null,
   "metadata": {},
   "outputs": [],
   "source": [
    "train_df"
   ]
  },
  {
   "cell_type": "code",
   "execution_count": null,
   "metadata": {},
   "outputs": [],
   "source": [
    "validate_df"
   ]
  },
  {
   "cell_type": "markdown",
   "metadata": {},
   "source": [
    "# Multiple Runs"
   ]
  }
 ],
 "metadata": {
  "kernelspec": {
   "display_name": "Python 3 (ipykernel)",
   "language": "python",
   "name": "python3"
  },
  "language_info": {
   "codemirror_mode": {
    "name": "ipython",
    "version": 3
   },
   "file_extension": ".py",
   "mimetype": "text/x-python",
   "name": "python",
   "nbconvert_exporter": "python",
   "pygments_lexer": "ipython3",
   "version": "3.8.0"
  },
  "vscode": {
   "interpreter": {
    "hash": "d1b1598dfd2c6b12a5fc6a1df3312ec525d6797b4f00f950f4e2653cd61371e9"
   }
  }
 },
 "nbformat": 4,
 "nbformat_minor": 4
}
