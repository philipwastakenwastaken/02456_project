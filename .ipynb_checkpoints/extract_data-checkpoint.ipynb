{
 "cells": [
  {
   "cell_type": "markdown",
   "metadata": {},
   "source": [
    "# Imports"
   ]
  },
  {
   "cell_type": "code",
   "execution_count": 127,
   "metadata": {},
   "outputs": [],
   "source": [
    "import wandb\n",
    "import pandas as pd\n",
    "from matplotlib import pyplot as plt\n",
    "import numpy as np"
   ]
  },
  {
   "cell_type": "markdown",
   "metadata": {},
   "source": [
    "# Guide\n",
    "\n",
    "See here for guide https://docs.wandb.ai/guides/track/public-api-guide"
   ]
  },
  {
   "cell_type": "markdown",
   "metadata": {},
   "source": [
    "# Single run"
   ]
  },
  {
   "cell_type": "code",
   "execution_count": 43,
   "metadata": {},
   "outputs": [],
   "source": [
    "run_id = \"kn9o0vjo\"\n",
    "api = wandb.Api()\n",
    "run = api.run(\"philipwastaken/02456_project/runs/\" + run_id)\n",
    "history = run.scan_history()"
   ]
  },
  {
   "cell_type": "code",
   "execution_count": null,
   "metadata": {},
   "outputs": [],
   "source": [
    "train_dict = {'mean_train_reward':[],\n",
    "              'frame_count': [],\n",
    "              '_timestamp': []}\n",
    "\n",
    "validate_dict = {'sims_per_val':[],\n",
    "                 'avg_reward':[],\n",
    "                 'duration':[],\n",
    "                 'avg_frame_count':[]}\n",
    "\n",
    "for row in history:\n",
    "    print(row)\n",
    "    if 'validate/sims_per_val' in row:\n",
    "        validate_dict['sims_per_val'].append(row['validate/sims_per_val'])\n",
    "        validate_dict['avg_reward'].append(row['validate/avg_reward'])\n",
    "        validate_dict['duration'].append(row['validate/duration'])\n",
    "        validate_dict['avg_frame_count'].append(row['validate/avg_frame_count'])\n",
    "    else:\n",
    "        train_dict['mean_train_reward'].append(row['mean_train_reward'])\n",
    "        train_dict['frame_count'].append(row['frame_count'])\n",
    "        train_dict['_timestamp'].append(row['_timestamp'])\n",
    "        \n",
    "train_df = pd.DataFrame(train_dict)\n",
    "validate_df = pd.DataFrame(validate_dict)"
   ]
  },
  {
   "cell_type": "code",
   "execution_count": 45,
   "metadata": {},
   "outputs": [
    {
     "data": {
      "text/html": [
       "<div>\n",
       "<style scoped>\n",
       "    .dataframe tbody tr th:only-of-type {\n",
       "        vertical-align: middle;\n",
       "    }\n",
       "\n",
       "    .dataframe tbody tr th {\n",
       "        vertical-align: top;\n",
       "    }\n",
       "\n",
       "    .dataframe thead th {\n",
       "        text-align: right;\n",
       "    }\n",
       "</style>\n",
       "<table border=\"1\" class=\"dataframe\">\n",
       "  <thead>\n",
       "    <tr style=\"text-align: right;\">\n",
       "      <th></th>\n",
       "      <th>mean_train_reward</th>\n",
       "      <th>frame_count</th>\n",
       "      <th>_timestamp</th>\n",
       "    </tr>\n",
       "  </thead>\n",
       "  <tbody>\n",
       "    <tr>\n",
       "      <th>0</th>\n",
       "      <td>110</td>\n",
       "      <td>132</td>\n",
       "      <td>1.669035e+09</td>\n",
       "    </tr>\n",
       "    <tr>\n",
       "      <th>1</th>\n",
       "      <td>70</td>\n",
       "      <td>256</td>\n",
       "      <td>1.669035e+09</td>\n",
       "    </tr>\n",
       "    <tr>\n",
       "      <th>2</th>\n",
       "      <td>50</td>\n",
       "      <td>322</td>\n",
       "      <td>1.669035e+09</td>\n",
       "    </tr>\n",
       "    <tr>\n",
       "      <th>3</th>\n",
       "      <td>80</td>\n",
       "      <td>436</td>\n",
       "      <td>1.669035e+09</td>\n",
       "    </tr>\n",
       "    <tr>\n",
       "      <th>4</th>\n",
       "      <td>50</td>\n",
       "      <td>494</td>\n",
       "      <td>1.669035e+09</td>\n",
       "    </tr>\n",
       "    <tr>\n",
       "      <th>...</th>\n",
       "      <td>...</td>\n",
       "      <td>...</td>\n",
       "      <td>...</td>\n",
       "    </tr>\n",
       "    <tr>\n",
       "      <th>29509</th>\n",
       "      <td>1750</td>\n",
       "      <td>7328698</td>\n",
       "      <td>1.669122e+09</td>\n",
       "    </tr>\n",
       "    <tr>\n",
       "      <th>29510</th>\n",
       "      <td>3550</td>\n",
       "      <td>7329108</td>\n",
       "      <td>1.669122e+09</td>\n",
       "    </tr>\n",
       "    <tr>\n",
       "      <th>29511</th>\n",
       "      <td>880</td>\n",
       "      <td>7329388</td>\n",
       "      <td>1.669122e+09</td>\n",
       "    </tr>\n",
       "    <tr>\n",
       "      <th>29512</th>\n",
       "      <td>3560</td>\n",
       "      <td>7329722</td>\n",
       "      <td>1.669122e+09</td>\n",
       "    </tr>\n",
       "    <tr>\n",
       "      <th>29513</th>\n",
       "      <td>3390</td>\n",
       "      <td>7329940</td>\n",
       "      <td>1.669122e+09</td>\n",
       "    </tr>\n",
       "  </tbody>\n",
       "</table>\n",
       "<p>29514 rows × 3 columns</p>\n",
       "</div>"
      ],
      "text/plain": [
       "       mean_train_reward  frame_count    _timestamp\n",
       "0                    110          132  1.669035e+09\n",
       "1                     70          256  1.669035e+09\n",
       "2                     50          322  1.669035e+09\n",
       "3                     80          436  1.669035e+09\n",
       "4                     50          494  1.669035e+09\n",
       "...                  ...          ...           ...\n",
       "29509               1750      7328698  1.669122e+09\n",
       "29510               3550      7329108  1.669122e+09\n",
       "29511                880      7329388  1.669122e+09\n",
       "29512               3560      7329722  1.669122e+09\n",
       "29513               3390      7329940  1.669122e+09\n",
       "\n",
       "[29514 rows x 3 columns]"
      ]
     },
     "execution_count": 45,
     "metadata": {},
     "output_type": "execute_result"
    }
   ],
   "source": [
    "train_df"
   ]
  },
  {
   "cell_type": "code",
   "execution_count": null,
   "metadata": {},
   "outputs": [],
   "source": [
    "validate_df"
   ]
  },
  {
   "cell_type": "markdown",
   "metadata": {},
   "source": [
    "# Multiple Runs"
   ]
  },
  {
   "cell_type": "code",
   "execution_count": 2,
   "metadata": {},
   "outputs": [],
   "source": [
    "api = wandb.Api() \n",
    "runs = api.runs(\"philipwastaken/02456_project\")"
   ]
  },
  {
   "cell_type": "markdown",
   "metadata": {},
   "source": [
    "### Get runs with proper hyperparameters"
   ]
  },
  {
   "cell_type": "code",
   "execution_count": 111,
   "metadata": {},
   "outputs": [
    {
     "name": "stdout",
     "output_type": "stream",
     "text": [
      "6 {'tau': 0.01, 'gamma': 0.99, 'val_freq': 1, 'batch_size': 32, 'num_episodes': 20000, 'weight_decay': 0, 'episode_limit': 10000, 'learning_rate': 0.0003, 'prefill_memory': True, 'replay_memory_capacity': 50000}\n",
      "7 {'tau': 0.01, 'gamma': 0.99, 'val_freq': 1, 'batch_size': 32, 'num_episodes': 20000, 'weight_decay': 0, 'episode_limit': 10000, 'learning_rate': 0.0003, 'prefill_memory': True, 'replay_memory_capacity': 50000}\n",
      "8 {'tau': 0.01, 'gamma': 0.99, 'val_freq': 1, 'batch_size': 32, 'num_episodes': 20000, 'weight_decay': 0, 'episode_limit': 10000, 'learning_rate': 0.0003, 'prefill_memory': True, 'replay_memory_capacity': 50000}\n",
      "9 {'tau': 0.01, 'gamma': 0.99, 'val_freq': 1, 'batch_size': 32, 'num_episodes': 20000, 'weight_decay': 0, 'episode_limit': 10000, 'learning_rate': 0.0003, 'prefill_memory': True, 'replay_memory_capacity': 50000}\n",
      "10 {'tau': 0.01, 'gamma': 0.99, 'val_freq': 1, 'batch_size': 32, 'num_episodes': 20000, 'weight_decay': 0, 'episode_limit': 10000, 'learning_rate': 0.0003, 'prefill_memory': True, 'replay_memory_capacity': 50000}\n",
      "11 {'tau': 0.01, 'gamma': 0.99, 'val_freq': 1, 'batch_size': 32, 'num_episodes': 20000, 'weight_decay': 0, 'episode_limit': 10000, 'learning_rate': 0.0003, 'prefill_memory': True, 'replay_memory_capacity': 50000}\n",
      "12 {'tau': 0.01, 'gamma': 0.99, 'val_freq': 1, 'batch_size': 32, 'num_episodes': 20000, 'weight_decay': 0, 'episode_limit': 10000, 'learning_rate': 0.0003, 'prefill_memory': True, 'replay_memory_capacity': 50000}\n",
      "13 {'tau': 0.01, 'gamma': 0.99, 'val_freq': 1, 'batch_size': 32, 'num_episodes': 20000, 'weight_decay': 0, 'episode_limit': 10000, 'learning_rate': 0.0003, 'prefill_memory': True, 'replay_memory_capacity': 50000}\n",
      "14 {'tau': 0.01, 'gamma': 0.99, 'val_freq': 1, 'batch_size': 32, 'num_episodes': 20000, 'weight_decay': 0, 'episode_limit': 10000, 'learning_rate': 0.0003, 'prefill_memory': True, 'replay_memory_capacity': 50000}\n",
      "15 {'tau': 0.01, 'gamma': 0.99, 'val_freq': 1, 'batch_size': 32, 'num_episodes': 20000, 'weight_decay': 0, 'episode_limit': 10000, 'learning_rate': 0.0003, 'prefill_memory': True, 'replay_memory_capacity': 50000}\n",
      "18 {'tau': 0.01, 'gamma': 0.99, 'val_freq': 1, 'batch_size': 32, 'num_episodes': 20000, 'weight_decay': 0, 'episode_limit': 10000, 'learning_rate': 0.0003, 'prefill_memory': True, 'replay_memory_capacity': 50000}\n",
      "19 {'tau': 0.01, 'gamma': 0.99, 'val_freq': 1, 'batch_size': 32, 'num_episodes': 20000, 'weight_decay': 0, 'episode_limit': 10000, 'learning_rate': 0.0003, 'prefill_memory': True, 'replay_memory_capacity': 50000}\n",
      "20 {'tau': 0.01, 'gamma': 0.99, 'val_freq': 1, 'batch_size': 32, 'num_episodes': 20000, 'weight_decay': 0, 'episode_limit': 10000, 'learning_rate': 0.0003, 'prefill_memory': True, 'replay_memory_capacity': 50000}\n",
      "21 {'tau': 0.01, 'gamma': 0.99, 'val_freq': 1, 'batch_size': 32, 'num_episodes': 20000, 'weight_decay': 0, 'episode_limit': 10000, 'learning_rate': 0.0003, 'prefill_memory': True, 'replay_memory_capacity': 50000}\n",
      "22 {'tau': 0.01, 'gamma': 0.99, 'val_freq': 1, 'batch_size': 32, 'num_episodes': 20000, 'weight_decay': 0, 'episode_limit': 10000, 'learning_rate': 0.0003, 'prefill_memory': True, 'replay_memory_capacity': 50000}\n",
      "29 {'tau': 0.01, 'gamma': 0.99, 'val_freq': 1, 'batch_size': 32, 'num_episodes': 20000, 'weight_decay': 0, 'episode_limit': 10000, 'learning_rate': 0.0003, 'prefill_memory': True, 'replay_memory_capacity': 50000}\n",
      "32 {'tau': 0.01, 'gamma': 0.99, 'val_freq': 1, 'batch_size': 32, 'num_episodes': 20000, 'weight_decay': 0, 'episode_limit': 10000, 'learning_rate': 0.0003, 'prefill_memory': True, 'replay_memory_capacity': 50000}\n",
      "33 {'tau': 0.01, 'gamma': 0.99, 'val_freq': 1, 'batch_size': 32, 'num_episodes': 20000, 'weight_decay': 0, 'episode_limit': 10000, 'learning_rate': 0.0003, 'prefill_memory': True, 'replay_memory_capacity': 50000}\n",
      "34 {'tau': 0.01, 'gamma': 0.99, 'val_freq': 1, 'batch_size': 32, 'num_episodes': 20000, 'weight_decay': 0, 'episode_limit': 10000, 'learning_rate': 0.0003, 'prefill_memory': True, 'replay_memory_capacity': 50000}\n",
      "35 {'tau': 0.01, 'gamma': 0.99, 'val_freq': 1, 'batch_size': 32, 'num_episodes': 30000, 'weight_decay': 0, 'episode_limit': 10000, 'learning_rate': 0.0003, 'prefill_memory': True, 'replay_memory_capacity': 50000}\n",
      "36 {'tau': 0.01, 'gamma': 0.99, 'val_freq': 1, 'batch_size': 32, 'num_episodes': 30000, 'weight_decay': 0, 'episode_limit': 10000, 'learning_rate': 0.0003, 'prefill_memory': True, 'replay_memory_capacity': 50000}\n",
      "42 {'tau': 0.01, 'gamma': 0.99, 'val_freq': 1, 'batch_size': 32, 'num_episodes': 30000, 'weight_decay': 0, 'episode_limit': 10000, 'learning_rate': 0.0003, 'prefill_memory': True, 'replay_memory_capacity': 50000}\n"
     ]
    }
   ],
   "source": [
    "good_runs = []\n",
    "for i, run in enumerate(runs): \n",
    "    \n",
    "    conf = run.config['update']\n",
    "    if  conf['learning_rate']==0.0003 and conf['replay_memory_capacity']==50000 and conf['batch_size']==32:\n",
    "        status = str(run)[44:-2]\n",
    "        if status == 'finished':\n",
    "            good_runs.append(i)\n",
    "            print(i, conf)"
   ]
  },
  {
   "cell_type": "markdown",
   "metadata": {},
   "source": [
    "### Get summary data of those models^"
   ]
  },
  {
   "cell_type": "code",
   "execution_count": 133,
   "metadata": {},
   "outputs": [
    {
     "data": {
      "text/plain": [
       "{'gray': [15, 34],\n",
       " 'crop': [9, 18, 19, 33],\n",
       " 'scale120': [6, 10, 20, 32],\n",
       " 'scale84': [7, 11, 12, 21, 29, 35],\n",
       " 'scale72': [8, 13, 14, 22, 36, 42],\n",
       " 'scale60': [],\n",
       " 'scale48': []}"
      ]
     },
     "execution_count": 133,
     "metadata": {},
     "output_type": "execute_result"
    }
   ],
   "source": [
    "models_id = {\n",
    "    'gray' : [],\n",
    "    'crop' : [],\n",
    "    'scale120' : [],\n",
    "    'scale84' : [],\n",
    "    'scale72' : [],\n",
    "    'scale60' : [],\n",
    "    'scale48' : [],\n",
    "}\n",
    "for i, run in enumerate(runs): \n",
    "    if i in good_runs:\n",
    "        summ = run.summary\n",
    "        model = summ['model_path'][40:-38]\n",
    "        models_id[model].append(i)\n",
    "models_id"
   ]
  },
  {
   "cell_type": "code",
   "execution_count": null,
   "metadata": {},
   "outputs": [],
   "source": [
    "'''\n",
    "Training and Validation dataframe for each wrapper:\n",
    "\n",
    "cols: run_id (~10)\n",
    "rows: value at timesteps (20,000)  \n",
    "\n",
    "'''\n",
    "\n",
    "df_gray = None\n",
    "df_crop = None\n",
    "df_scale120 = None\n",
    "df_scale84 = None\n",
    "df_scale72 = None\n",
    "df_scale60 = None\n",
    "df_scale48 = None\n"
   ]
  },
  {
   "cell_type": "code",
   "execution_count": 122,
   "metadata": {},
   "outputs": [],
   "source": [
    "train = {}\n",
    "validate = {}\n",
    "\n",
    "for i, run in enumerate(runs):\n",
    "    \n",
    "    if i not in good_runs:\n",
    "        continue\n",
    "        \n",
    "    history = run.scan_history()\n",
    "    \n",
    "    train[i] = []\n",
    "    validate[i] = []\n",
    "    for row in history:\n",
    "        try:\n",
    "            if 'validate/sims_per_val' in row:\n",
    "                validate[i].append(row['validate/avg_reward'])\n",
    "            else:\n",
    "                train[i].append(row['mean_train_reward'])\n",
    "        except:\n",
    "            print(row)"
   ]
  },
  {
   "cell_type": "code",
   "execution_count": null,
   "metadata": {},
   "outputs": [],
   "source": [
    "train[9]"
   ]
  },
  {
   "cell_type": "code",
   "execution_count": 135,
   "metadata": {},
   "outputs": [
    {
     "name": "stdout",
     "output_type": "stream",
     "text": [
      "[9, 18, 19, 33]\n"
     ]
    },
    {
     "data": {
      "image/png": "[encoded data removed]",
      "text/plain": [
       "<Figure size 640x480 with 1 Axes>"
      ]
     },
     "metadata": {},
     "output_type": "display_data"
    }
   ],
   "source": [
    "ids = models_id['crop']\n",
    "print(ids)\n",
    "for id in ids:\n",
    "    plt.plot(train[id])\n",
    "plt.show()"
   ]
  }
 ],
 "metadata": {
  "kernelspec": {
   "display_name": "rl",
   "language": "python",
   "name": "rl"
  },
  "language_info": {
   "codemirror_mode": {
    "name": "ipython",
    "version": 3
   },
   "file_extension": ".py",
   "mimetype": "text/x-python",
   "name": "python",
   "nbconvert_exporter": "python",
   "pygments_lexer": "ipython3",
   "version": "3.8.0"
  },
  "vscode": {
   "interpreter": {
    "hash": "d1b1598dfd2c6b12a5fc6a1df3312ec525d6797b4f00f950f4e2653cd61371e9"
   }
  }
 },
 "nbformat": 4,
 "nbformat_minor": 4
}
