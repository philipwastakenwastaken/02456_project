{
 "cells": [
  {
   "cell_type": "markdown",
   "metadata": {},
   "source": [
    "# Ultra short guide for wandb API data loading"
   ]
  },
  {
   "cell_type": "code",
   "execution_count": 1,
   "metadata": {},
   "outputs": [],
   "source": [
    "import wandb"
   ]
  },
  {
   "cell_type": "markdown",
   "metadata": {},
   "source": [
    "# Load data from a run"
   ]
  },
  {
   "cell_type": "code",
   "execution_count": 4,
   "metadata": {},
   "outputs": [],
   "source": [
    "run_id = \"kn9o0vjo\"\n",
    "api = wandb.Api()\n",
    "run = api.run(\"philipwastaken/02456_project/runs/\" + run_id)\n",
    "history = run.scan_history()"
   ]
  },
  {
   "cell_type": "markdown",
   "metadata": {},
   "source": [
    "# Extract specific column\n",
    "\n",
    "See here for guide https://docs.wandb.ai/guides/track/public-api-guide"
   ]
  },
  {
   "cell_type": "code",
   "execution_count": 5,
   "metadata": {},
   "outputs": [],
   "source": [
    "mean_train_reward = [row['mean_train_reward'] for row in history]\n",
    "mean_train_reward"
   ]
  },
  {
   "cell_type": "code",
   "execution_count": 9,
   "metadata": {},
   "outputs": [
    {
     "data": {
      "text/plain": [
       "{'validate/sims_per_val': 32, 'epsilon': 0.1, '_runtime': 86406.91235685349, '_timestamp': 1669121699.888934, 'model_path': '/zhome/65/7/156117/02456_project/models/scale84_2022_11_21_13DD54DD50D847060_dqnet.pt', 'frame_count': 7329940, 'validate/duration': 20.30483224405907, 'validate/avg_reward': 2230, '_step': 29811, 'start_time': '2022-11-21T13:54:58.640355', 'mean_train_reward': 3390, 'last_recorded_time': '2022-11-22T13:54:59.889928', 'validate/avg_frame_count': 321.1875}"
      ]
     },
     "execution_count": 9,
     "metadata": {},
     "output_type": "execute_result"
    }
   ],
   "source": [
    "run.summary"
   ]
  }
 ],
 "metadata": {
  "kernelspec": {
   "display_name": "Python 3.8.15 ('env': venv)",
   "language": "python",
   "name": "python3"
  },
  "language_info": {
   "codemirror_mode": {
    "name": "ipython",
    "version": 3
   },
   "file_extension": ".py",
   "mimetype": "text/x-python",
   "name": "python",
   "nbconvert_exporter": "python",
   "pygments_lexer": "ipython3",
   "version": "3.8.15"
  },
  "orig_nbformat": 4,
  "vscode": {
   "interpreter": {
    "hash": "d1b1598dfd2c6b12a5fc6a1df3312ec525d6797b4f00f950f4e2653cd61371e9"
   }
  }
 },
 "nbformat": 4,
 "nbformat_minor": 2
}
