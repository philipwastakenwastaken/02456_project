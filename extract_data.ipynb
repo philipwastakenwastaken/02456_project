{
 "cells": [
  {
   "cell_type": "markdown",
   "metadata": {},
   "source": [
    "# Imports"
   ]
  },
  {
   "cell_type": "code",
   "execution_count": null,
   "metadata": {},
   "outputs": [],
   "source": [
    "import wandb\n",
    "import pandas as pd"
   ]
  },
  {
   "cell_type": "markdown",
   "metadata": {},
   "source": [
    "# Guide\n",
    "\n",
    "See here for guide https://docs.wandb.ai/guides/track/public-api-guide"
   ]
  },
  {
   "cell_type": "markdown",
   "metadata": {},
   "source": [
    "# Single run"
   ]
  },
  {
   "cell_type": "code",
   "execution_count": null,
   "metadata": {},
   "outputs": [],
   "source": [
    "run_id = \"kn9o0vjo\"\n",
    "api = wandb.Api()\n",
    "run = api.run(\"philipwastaken/02456_project/runs/\" + run_id)\n",
    "history = run.scan_history()"
   ]
  },
  {
   "cell_type": "code",
   "execution_count": null,
   "metadata": {},
   "outputs": [],
   "source": [
    "train_dict = {'mean_train_reward':[],\n",
    "            'frame_count': [],\n",
    "            '_timestamp': []}\n",
    "\n",
    "validate_dict = {'sims_per_val':[],\n",
    "               'avg_reward':[],\n",
    "               'duration':[],\n",
    "               'avg_frame_count':[]}\n",
    "\n",
    "for row in history:\n",
    "    if 'validate/sims_per_val' in row:\n",
    "        validate_dict['sims_per_val'].append(row['validate/sims_per_val'])\n",
    "        validate_dict['avg_reward'].append(row['validate/avg_reward'])\n",
    "        validate_dict['duration'].append(row['validate/duration'])\n",
    "        validate_dict['avg_frame_count'].append(row['validate/avg_frame_count'])\n",
    "    else:\n",
    "        train_dict['mean_train_reward'].append(row['mean_train_reward'])\n",
    "        train_dict['frame_count'].append(row['frame_count'])\n",
    "        train_dict['_timestamp'].append(row['_timestamp'])\n",
    "        \n",
    "train_df = pd.DataFrame(train_dict)\n",
    "validate_df = pd.DataFrame(validate_dict)"
   ]
  },
  {
   "cell_type": "code",
   "execution_count": null,
   "metadata": {},
   "outputs": [],
   "source": [
    "train_df"
   ]
  },
  {
   "cell_type": "code",
   "execution_count": null,
   "metadata": {},
   "outputs": [],
   "source": [
    "validate_df"
   ]
  },
  {
   "cell_type": "markdown",
   "metadata": {},
   "source": [
    "# Multiple Runs"
   ]
  },
  {
   "cell_type": "code",
   "execution_count": 38,
   "metadata": {},
   "outputs": [],
   "source": [
    "api = wandb.Api() \n",
    "runs = api.runs(\"philipwastaken/02456_project\")"
   ]
  },
  {
   "cell_type": "code",
   "execution_count": 39,
   "metadata": {},
   "outputs": [
    {
     "name": "stdout",
     "output_type": "stream",
     "text": [
      "<Run philipwastaken/02456_project/2iomhs4l (running)>\n",
      "<Run philipwastaken/02456_project/4tzwvexw (running)>\n",
      "<Run philipwastaken/02456_project/31k5tjl1 (running)>\n",
      "<Run philipwastaken/02456_project/y4wrkyh6 (running)>\n",
      "<Run philipwastaken/02456_project/3ebfslui (crashed)>\n",
      "<Run philipwastaken/02456_project/28rdoyn5 (running)>\n",
      "<Run philipwastaken/02456_project/22q76qoq (running)>\n",
      "<Run philipwastaken/02456_project/1do6x5bd (running)>\n",
      "<Run philipwastaken/02456_project/28hz8kw0 (running)>\n",
      "<Run philipwastaken/02456_project/1nct5vni (running)>\n",
      "<Run philipwastaken/02456_project/3j2umlgo (finished)>\n",
      "<Run philipwastaken/02456_project/2575mge7 (finished)>\n",
      "<Run philipwastaken/02456_project/131sqsih (running)>\n",
      "<Run philipwastaken/02456_project/2gwfsl42 (finished)>\n",
      "<Run philipwastaken/02456_project/5hsv2744 (finished)>\n",
      "<Run philipwastaken/02456_project/3ptcsscu (crashed)>\n",
      "<Run philipwastaken/02456_project/15uf3r8n (finished)>\n",
      "<Run philipwastaken/02456_project/h86ys382 (finished)>\n",
      "<Run philipwastaken/02456_project/3mht85yy (crashed)>\n",
      "<Run philipwastaken/02456_project/kn9o0vjo (crashed)>\n",
      "<Run philipwastaken/02456_project/1i2yk20u (finished)>\n",
      "<Run philipwastaken/02456_project/3hxp3yyb (finished)>\n",
      "<Run philipwastaken/02456_project/1uqs4a01 (crashed)>\n",
      "<Run philipwastaken/02456_project/vbbtd96q (crashed)>\n",
      "<Run philipwastaken/02456_project/fkyvws77 (crashed)>\n",
      "<Run philipwastaken/02456_project/turjkdsr (crashed)>\n",
      "<Run philipwastaken/02456_project/zfj0vsoo (crashed)>\n",
      "<Run philipwastaken/02456_project/3isu245t (crashed)>\n",
      "<Run philipwastaken/02456_project/3rjfgtt2 (crashed)>\n",
      "<Run philipwastaken/02456_project/2sguojwb (crashed)>\n",
      "<Run philipwastaken/02456_project/11sepfzh (crashed)>\n",
      "<Run philipwastaken/02456_project/ug3auw5n (crashed)>\n",
      "<Run philipwastaken/02456_project/3avcq6tp (crashed)>\n",
      "<Run philipwastaken/02456_project/xq2j7xy4 (crashed)>\n",
      "<Run philipwastaken/02456_project/alwb60yy (crashed)>\n",
      "<Run philipwastaken/02456_project/3bpjfdqv (crashed)>\n",
      "<Run philipwastaken/02456_project/vh1s7yr8 (crashed)>\n",
      "<Run philipwastaken/02456_project/z2s18wbh (finished)>\n",
      "<Run philipwastaken/02456_project/vrso74gy (crashed)>\n",
      "<Run philipwastaken/02456_project/a33oulfv (finished)>\n",
      "<Run philipwastaken/02456_project/30qtld2n (crashed)>\n",
      "<Run philipwastaken/02456_project/qxoj9u4z (crashed)>\n",
      "<Run philipwastaken/02456_project/9z4avj5c (crashed)>\n",
      "<Run philipwastaken/02456_project/3dvatrtr (crashed)>\n",
      "<Run philipwastaken/02456_project/1frnny2q (crashed)>\n",
      "<Run philipwastaken/02456_project/2vvpiz9j (crashed)>\n",
      "<Run philipwastaken/02456_project/35b2l04o (crashed)>\n",
      "<Run philipwastaken/02456_project/32m2ke6r (crashed)>\n",
      "<Run philipwastaken/02456_project/1scn4a1y (crashed)>\n",
      "<Run philipwastaken/02456_project/185bx5aw (finished)>\n",
      "<Run philipwastaken/02456_project/zjq4jzwq (finished)>\n",
      "<Run philipwastaken/02456_project/r9z6d9f1 (crashed)>\n",
      "<Run philipwastaken/02456_project/24jdr3nl (crashed)>\n",
      "<Run philipwastaken/02456_project/2yhm86ap (crashed)>\n",
      "<Run philipwastaken/02456_project/3cnzmxvs (finished)>\n",
      "<Run philipwastaken/02456_project/3qttgfpt (crashed)>\n",
      "<Run philipwastaken/02456_project/e5t6pkjb (finished)>\n",
      "<Run philipwastaken/02456_project/3v5plcjf (finished)>\n",
      "<Run philipwastaken/02456_project/3b41mjgq (finished)>\n",
      "<Run philipwastaken/02456_project/2v6vqltq (finished)>\n",
      "<Run philipwastaken/02456_project/pzdm75ta (crashed)>\n",
      "<Run philipwastaken/02456_project/5z02kkge (finished)>\n",
      "<Run philipwastaken/02456_project/180g33jx (finished)>\n",
      "<Run philipwastaken/02456_project/2kl5iiu7 (finished)>\n",
      "<Run philipwastaken/02456_project/1e7q9hhk (finished)>\n",
      "<Run philipwastaken/02456_project/2mco6it5 (finished)>\n",
      "<Run philipwastaken/02456_project/1iymo75q (crashed)>\n",
      "<Run philipwastaken/02456_project/1g5wx3r2 (crashed)>\n",
      "<Run philipwastaken/02456_project/2g1dqkr4 (crashed)>\n",
      "<Run philipwastaken/02456_project/j2ju6sok (crashed)>\n",
      "<Run philipwastaken/02456_project/1f244yiz (crashed)>\n",
      "<Run philipwastaken/02456_project/3s4verby (crashed)>\n",
      "<Run philipwastaken/02456_project/vxfxgzr9 (crashed)>\n",
      "<Run philipwastaken/02456_project/2stkp5f7 (crashed)>\n",
      "<Run philipwastaken/02456_project/33bx86o0 (crashed)>\n",
      "<Run philipwastaken/02456_project/jsmpnku3 (crashed)>\n",
      "<Run philipwastaken/02456_project/h8vyr783 (crashed)>\n",
      "<Run philipwastaken/02456_project/2hyhr6uz (crashed)>\n",
      "<Run philipwastaken/02456_project/11pxnvu4 (crashed)>\n",
      "<Run philipwastaken/02456_project/xxvmbtr1 (finished)>\n",
      "<Run philipwastaken/02456_project/ilci1o20 (crashed)>\n",
      "<Run philipwastaken/02456_project/3p6k5g9b (crashed)>\n",
      "<Run philipwastaken/02456_project/17s8m3ic (crashed)>\n",
      "<Run philipwastaken/02456_project/twy8aukn (crashed)>\n",
      "<Run philipwastaken/02456_project/2kd0f68s (failed)>\n",
      "<Run philipwastaken/02456_project/r31nk6na (crashed)>\n",
      "<Run philipwastaken/02456_project/2hss1akk (finished)>\n",
      "<Run philipwastaken/02456_project/3sin99r4 (crashed)>\n",
      "<Run philipwastaken/02456_project/1qbhklco (failed)>\n",
      "<Run philipwastaken/02456_project/23lbbddl (crashed)>\n",
      "<Run philipwastaken/02456_project/3lzvqhl0 (crashed)>\n",
      "<Run philipwastaken/02456_project/wyicxxly (crashed)>\n",
      "<Run philipwastaken/02456_project/2eqqtlc2 (crashed)>\n",
      "<Run philipwastaken/02456_project/28x894fw (finished)>\n",
      "<Run philipwastaken/02456_project/dd8xjcdu (crashed)>\n",
      "<Run philipwastaken/02456_project/3ug1kqta (failed)>\n",
      "<Run philipwastaken/02456_project/28zeqniw (failed)>\n",
      "<Run philipwastaken/02456_project/2vh4ns6s (crashed)>\n",
      "<Run philipwastaken/02456_project/1e4gnjw4 (crashed)>\n",
      "<Run philipwastaken/02456_project/eludrm7l (crashed)>\n",
      "<Run philipwastaken/02456_project/133utez8 (finished)>\n",
      "<Run philipwastaken/02456_project/2bwbdwu5 (finished)>\n",
      "<Run philipwastaken/02456_project/3t1ka122 (finished)>\n",
      "<Run philipwastaken/02456_project/1eqxxh8f (crashed)>\n",
      "<Run philipwastaken/02456_project/2z9g0qnf (failed)>\n",
      "<Run philipwastaken/02456_project/3gvs3byu (crashed)>\n",
      "<Run philipwastaken/02456_project/1tg2cvq0 (crashed)>\n"
     ]
    }
   ],
   "source": [
    "for run in runs: \n",
    "    print(run)"
   ]
  }
 ],
 "metadata": {
  "kernelspec": {
   "display_name": "Python 3 (ipykernel)",
   "language": "python",
   "name": "python3"
  },
  "language_info": {
   "codemirror_mode": {
    "name": "ipython",
    "version": 3
   },
   "file_extension": ".py",
   "mimetype": "text/x-python",
   "name": "python",
   "nbconvert_exporter": "python",
   "pygments_lexer": "ipython3",
   "version": "3.8.0"
  },
  "vscode": {
   "interpreter": {
    "hash": "d1b1598dfd2c6b12a5fc6a1df3312ec525d6797b4f00f950f4e2653cd61371e9"
   }
  }
 },
 "nbformat": 4,
 "nbformat_minor": 4
}
